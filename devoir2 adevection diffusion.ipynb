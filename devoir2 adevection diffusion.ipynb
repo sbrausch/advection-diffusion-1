{
 "cells": [
  {
   "cell_type": "markdown",
   "metadata": {},
   "source": [
    "Brausch Sébastien $000442329$\n",
    "\n",
    "Leonardy Lucas    $000430168$"
   ]
  },
  {
   "cell_type": "markdown",
   "metadata": {},
   "source": [
    "# Advection-diffusion : MATH -F-314    devoir n°2   (décembre 2018)"
   ]
  },
  {
   "cell_type": "markdown",
   "metadata": {},
   "source": [
    "Question1:\n",
    "\n",
    "\n",
    "$$\\left(\\frac{\\partial^2}{\\partial z^2}-k^2\\right)w' = -k^2 c'\\\\\n",
    "\\frac{\\partial c'}{\\partial t}-\\frac{1}{Ra}\\left(\\frac{\\partial^2}{\\partial z^2}-k^2\\right)c'=-\\frac{\\partial C_0}{\\partial z}w',$$\n",
    "\n",
    "  \n",
    " On change de variables les fonctions c et w $(z,t) \\rightarrow (\\xi , t)$  avec $\\xi = z\\sqrt{\\frac{R_a}{4t}}$.\n",
    " \n",
    " Récrivons alors les dérivées partielles apparaissant dans les équations en fonction de nos nouvelles variables. \n",
    " $$ \\frac{\\partial }{\\partial z} = \\frac{\\partial }{\\partial \\xi} \\frac{\\partial \\xi}{\\partial z}  + \\frac{\\partial }{\\partial t}\\frac{\\partial t}{\\partial z} = \\frac{\\partial }{\\partial \\xi} \\frac{\\partial \\xi}{\\partial z} = \\sqrt{\\frac{R_a}{4t}}\\frac{\\partial }{\\partial \\xi}$$\n",
    " \n",
    " $$ \\frac{\\partial^2 }{\\partial z^2} = \\frac{\\partial }{\\partial \\xi}(\\sqrt{\\frac{R_a}{4t}}\\frac{\\partial }{\\partial \\xi})\\sqrt{\\frac{R_a}{4t}} = \\frac{R_a}{4t} \\frac{\\partial }{\\partial \\xi}   $$\n",
    " \n",
    " $$ \\frac{\\partial }{\\partial t} = \\frac{\\partial }{\\partial \\xi} \\frac{\\partial \\xi}{\\partial t} +\\frac{\\partial } {\\partial t} \\frac{\\partial t}{\\partial t} = \\frac{\\partial }{\\partial \\xi} \\frac{\\partial \\xi}{\\partial t} +\\frac{\\partial }{\\partial t} = -\\frac{\\xi}{2t} \\frac{\\partial }{\\partial \\xi} + \\frac{\\partial }{\\partial t} $$ \n",
    " \n",
    " \n",
    " \n",
    " \n",
    " \n",
    " En Remplaçant les dérivées dans les équations précédentes on trouve bien  \n",
    " \n",
    " \n",
    " \n",
    " $$\\left(\\frac{Ra}{4t}\\frac{\\partial^2}{\\partial \\xi^2}-k^2\\right)w = -k^2 c\\\\\n",
    "\\frac{\\partial c}{\\partial t}-\\frac{1}{t}\\left(\\frac{1}{4}\\frac{\\partial^2}{\\partial \\xi^2}+\\frac{\\xi}{2}\\frac{\\partial}{\\partial\\xi}-\\frac{k^2 t}{Ra}\\right)c=\\sqrt{\\frac{Ra}{\\pi t}}e^{-\\xi^2}w\n",
    "$$"
   ]
  },
  {
   "cell_type": "markdown",
   "metadata": {},
   "source": [
    "Question 2:\n",
    "\n",
    "\n",
    "$L_{i,j}$\n",
    "\n",
    "\n",
    "\n",
    "\\begin{align*}\n",
    "    \\left(\\frac{Ra}{4t}\\frac{\\partial^2}{\\partial \\xi^2}-k^2\\right)\\ w = \\frac{Ra}{4\\ t\\ \\Delta\\xi^{2}}\\ \\left(w_{i-1}\\ -\\ 2\\ w_{i}\\ +\\ w_{i+1}\\right)\\ -\\ k^{2}\\ w_i\\\\\\ =\\ Ra\\ \\alpha\\ \\left(w_{i-1}\\ +\\ w_{i} (-\\ 2\\ -\\frac{k^2}{Ra\\ \\alpha})\\ +\\ w_{i+1}\\right)\n",
    "\\end{align*}\n",
    "\n",
    "\n",
    "\n",
    "\n",
    "Donc :\n",
    "\n",
    "$$\n",
    "L_{i,j} = \n",
    "\\begin{cases}\n",
    "Ra\\ \\alpha\\  si\\  i = j\\pm1\\\\\n",
    "-\\left(2\\ +\\frac{k^2}{Ra\\ \\alpha}\\right)\\  si\\  i=j\\\\\n",
    "0\\  sinon\n",
    "\\end{cases}\n",
    "$$\n",
    "\n",
    "\n",
    "$M_{i,j}$\n",
    "\n",
    "\\begin{align*}\n",
    "\\frac{1}{t}\\left(\\frac{1}{4}\\frac{\\partial^2}{\\partial \\xi^2}+\\frac{\\xi}{2}\\frac{\\partial}{\\partial\\xi}-\\frac{k^2 t}{Ra}\\right)c\\\\= \\frac{1}{t\\ 4\\ \\Delta\\xi^2}\\left(w_{i-1}\\ -\\ 2w_{i}\\ +\\ w_{i+1}\\right)\\ + \\frac{\\xi}{4t\\Delta\\xi}\\left(w_{i+1}\\ -\\ w_{i-1}\\right)\\ -\\frac{k^2}{Ra}\\ w_i\n",
    "\\\\=\\alpha\\ \\left(w_{i-1}\\ (1\\ +\\ \\xi\\Delta\\xi)\\ +\\ w_{i}\\ (-2\\ -\\frac{k^2}{Ra\\ \\alpha})\\ +\\ w_{i+1}\\ (1\\ +\\ \\xi\\Delta\\xi)\\right)\n",
    "\\end{align*}\n",
    "\n",
    "\n",
    "Donc :\n",
    "$$\n",
    "M_{i,j} = \n",
    "\\begin{cases}\n",
    " \\alpha(1\\ +\\ \\xi\\Delta\\xi) \\ \\  si\\  i = j-1\\\\\n",
    " \\alpha(1\\ -\\ \\xi\\Delta\\xi) \\ \\  si\\  i = j+1\\\\\n",
    "-\\left(2\\ +\\frac{k^2}{Ra\\ \\alpha}\\right)\\  si\\  i=j\\\\\n",
    "0\\  sinon\n",
    "\\end{cases}\n",
    "$$\n"
   ]
  },
  {
   "cell_type": "markdown",
   "metadata": {},
   "source": [
    "\n",
    "Question 3\n",
    "\n",
    "\n",
    " \n",
    "  \n",
    "  Soit l'opérateur \n",
    "  \n",
    "  \n",
    "  $$\n",
    "Hf = \\frac{1}{4}\\frac{\\partial^2 f}{\\partial \\xi^2}+\\frac{\\xi}{2}\\frac{\\partial f}{\\partial\\xi}=\\alpha f\n",
    "$$\n",
    "  Soit f la fonction $f(\\xi) = e^{-\\xi^2} h(\\xi)$ où h est un polynôme de Hermite, c'est à dire résolvant l'équation d'Hermite:\n",
    "  \n",
    "  $$h''-2\\xi h' = -2 \\lambda h $$ \n",
    "  \n",
    "  On veut montrer que f est une fonction propre de H, c'est à dire $Hf=\\alpha f$.  Développons d'abord les dérivées partielles intervenant dans H, on trouve : \n",
    "  \n",
    "  $$\\frac{\\partial f}{\\partial \\xi} = -2 \\xi e^{-\\xi^2}  + e^{-\\xi^2} h' \n",
    "  $$\n",
    "  $$\\frac{\\partial^2 f}{\\partial \\xi^2} =  -2 e^{-\\xi^2} h(\\xi) + 4 \\xi^2 e^{-\\xi^2}h - 2 \\xi e^{-\\xi^2} h' - 2 e^{-\\xi^2} \\lambda h\n",
    "  $$\n",
    "  \n",
    "  On peut alors écrire: \n",
    "  $$ Hf =  -\\frac{1}{2} e^{-\\xi^2} h(\\xi) +  \\xi^2 e^{-\\xi^2}h - \\frac{\\xi}{2}  e^{-\\xi^2} h' - \\frac{1}{2} e^{-\\xi^2} \\lambda h     - \\xi^2 e^{-\\xi^2}  + \\frac{\\xi}{2} e^{-\\xi^2} h' = -\\frac{1}{2} f - \\frac{1}{2} \\lambda f = (\\frac{-1}{2}-\\frac{\\lambda}{2}) f\n",
    "  $$\n",
    "  Donc $\\alpha = -\\frac{1}{2}-\\frac{\\lambda}{2} $\n",
    "  \n",
    "  \n",
    "   On veut maintenant connaître les valeurs admissibles de $\\alpha$ en prenant en compte les conditions $f(\\xi=0) = f(\\xi =\\infty) = 0$ \n",
    "  \n",
    "  1)La première condition $f(0)=0 \\Rightarrow h(O) = 0 \\Rightarrow $ h est un polynôme de hermite de dégré impair c'est à dire $h \\in \\{ H_{n+1} \\ tq \\ n \\in 2\\mathbf{N} \\} $\n",
    "      Ceci se remarque directement lorsq'on dévellope les $H_n$ sous forme polynomiale. \n",
    "  \n",
    "  \n",
    " 2)La deuxième condition $\\lim\\limits_{\\xi \\to \\infty} f(\\xi) = 0 \\Rightarrow \\lim\\limits_{\\xi \\to \\infty} h(\\xi) \\ne \\infty $.\n",
    "     Cela implique que h est borné et on apprend alors sur Wikipédia que $\\lambda$ ne peut prendre que les valeurs de naturels. \n",
    "     On va montrer, et en fait $ \\lambda_n = n$ c'est à dire la le lambda associé à au polynôme de Hermite de degré n ($H_n$) dans l'équation d'Hermite est le naturel n. \n",
    "     Pour cela, on introduit les 2 relations de récurrences des polynômes d'Hermite $H_n (x)$: \n",
    "     $$ H_{n+1}  - 2x H_n = -2n H_{n-1} \n",
    "     $$\n",
    "     $$H_n ' = 2nH_{n-1} $$\n",
    "     \n",
    "  Utilisons la 2ème équation de récurrence pour enlever les dérivées de l'équation d'Hermite, on obtient \n",
    "     $$ 2n H_{n-1}' - 4nx H_{n-1} = -2\\lambda H_n\n",
    "     $$\n",
    "     $$\\Leftrightarrow 2\\lambda H_n - 4nx H_{n-1} = -4n^2 H_{n-2}\n",
    "     $$\n",
    "     $$ \\Leftrightarrow H_n- \\frac{n}{\\lambda} 2 x H_{n-1} = -2n\\frac{n}{\\lambda} H_{n-2}\n",
    "     $$\n",
    "   \n",
    "   \n",
    "   On voit clairement que la dernière égalité est équivalente à la première relation de récurence $\\Leftrightarrow \\lambda = n $.\n",
    "   \n",
    "   \n",
    "  "
   ]
  },
  {
   "cell_type": "markdown",
   "metadata": {},
   "source": [
    "Question 4:\n",
    "\n",
    "$H_{i,j}$\n",
    "\n",
    "\n",
    "\\begin{align*}\n",
    "Hf = \\frac{1}{4}\\frac{\\partial^2 f}{\\partial \\xi^2}+\\frac{\\xi}{2}\\frac{\\partial f}{\\partial\\xi}\\\\\n",
    "=\\frac{1}{4\\Delta\\xi^2}\\left(f_{i-1}\\ -\\ 2f_i\\ +\\ f_{i+1}\\right)\\ +\\ \\frac{\\xi}{4\\Delta\\xi}\\ \\left(f_{i+1}\\ -\\ f{i-1}\\right)\\\\\n",
    "=\\alpha\\ \\left(f_{i-1}(1-\\xi\\Delta\\xi)\\ -\\ f_i(-2)\\ +\\ f_{i+1}(1\\ +\\ \\xi\\Delta\\xi)\\right)\n",
    "\\end{align*}\n",
    "\n",
    "\n",
    "$H_{i,j}$=\n",
    "\\begin{cases}\n",
    " \\alpha(1\\ +\\ \\xi\\Delta\\xi) \\ \\  si\\  i = j-1\\\\\n",
    " \\alpha(1\\ -\\ \\xi\\Delta\\xi) \\ \\  si\\  i = j+1\\\\\n",
    "-\\left(2\\right)\\  si\\  i=j\\\\\n",
    "0\\  sinon\n",
    "\\end{cases}\n",
    "\n",
    "\n"
   ]
  },
  {
   "cell_type": "markdown",
   "metadata": {},
   "source": [
    "\n",
    "\n"
   ]
  },
  {
   "cell_type": "code",
   "execution_count": 1,
   "metadata": {},
   "outputs": [],
   "source": [
    "# On importe les outils dont nous aurons besoin\n",
    "\n",
    "import numpy\n",
    "from matplotlib import pyplot\n",
    "%matplotlib inline\n",
    "import numpy \n",
    "from scipy import linalg\n"
   ]
  },
  {
   "cell_type": "markdown",
   "metadata": {},
   "source": [
    "Nous allons ici poser les conditions initiales"
   ]
  },
  {
   "cell_type": "code",
   "execution_count": 2,
   "metadata": {},
   "outputs": [],
   "source": [
    "h = 10**(-8)# On détermine le pas\n",
    "Ne = 101# le nombre d'éléments xhi\n",
    "Nt = int((10**(-4)-10**(-5))/h)# le nombre de pas\n",
    "t0 = 10**(-5)# le t0\n",
    " #on initialise la variable t\n",
    "L = 5.0 #la longueur du domaine de xi\n",
    "de = L/(Ne-1) #intervalle de xi\n",
    "Ra = 500.0 # le nombre de Rayleigh\n",
    "k = 0.1 # le nombre d'onde des perturbations\n"
   ]
  },
  {
   "cell_type": "markdown",
   "metadata": {},
   "source": [
    "Nous allons maintenant créer une matrice qui représentera notre opérateur."
   ]
  },
  {
   "cell_type": "code",
   "execution_count": 3,
   "metadata": {},
   "outputs": [
    {
     "name": "stdout",
     "output_type": "stream",
     "text": [
      "les 5 plus grandes valeurs propres de H sont: \n",
      "[-0.97225223 -1.95813199 -2.94754092 -3.93934715 -4.94073931]\n"
     ]
    }
   ],
   "source": [
    "e_droite = numpy.empty(Ne-1)# Nous créons deux tableaux vides que nous allons ensuite remplir ainsi qu'une qui sera la diagonale, celle-ci\n",
    "e_milieu = numpy.ones(Ne)*-2# nous aiderons à créer notre matrice\n",
    "e_gauche = numpy.empty(Ne-1)\n",
    "\n",
    "for i in range (Ne-1): #Nous remplissons les deux tableaux vides\n",
    "        e_droite[i] = 1 + i * de**2\n",
    "        e_gauche[i] = 1 - (i+1)* de**2\n",
    "\n",
    "\n",
    "\n",
    "\n",
    "A = numpy.diag(e_droite, k = 1)#On fais la matrice H\n",
    "B = numpy.diag(e_milieu)\n",
    "C = numpy.diag(e_gauche, k=-1)\n",
    "\n",
    "H = (1/(4*de**2))*(A +  B +  C)\n",
    "\n",
    "v,w = numpy.linalg.eig(H)\n",
    "v.sort() #On trie les valaurs propres dans l'ordre décroissant\n",
    "\n",
    "x = numpy.zeros(5)#On sélectionne les 5 plus grandes valeurs\n",
    "j = 1\n",
    "s = 1\n",
    "while j < 6 :\n",
    "    if v[-s] != 0.0:\n",
    "        x[j-1] = v[-s]\n",
    "        j = j+1\n",
    "        s = s+1\n",
    "    elif v[-s] == 0.0:\n",
    "        s = s+1\n",
    "    \n",
    "print ('les 5 plus grandes valeurs propres de H sont: ')\n",
    "\n",
    "\n",
    "print(x)\n"
   ]
  },
  {
   "cell_type": "markdown",
   "metadata": {},
   "source": [
    "Question 5: \n",
    "\n",
    "Nous allons maintenant créer un tableau avec les valeurs de c au cour du temps."
   ]
  },
  {
   "cell_type": "code",
   "execution_count": 4,
   "metadata": {},
   "outputs": [],
   "source": [
    "c_i = numpy.load(\"init_cond_c.npy\")#On charge les concentrations initiales\n",
    "\n",
    "c = numpy.zeros(Ne)\n",
    "w = numpy.empty(Ne)\n",
    "w[0] = 0.0\n",
    "for i in range (Ne-2):\n",
    "    c[i+1] = c_i[i]\n",
    "\n"
   ]
  },
  {
   "cell_type": "code",
   "execution_count": 5,
   "metadata": {},
   "outputs": [],
   "source": [
    "def deriv(t,p,c, w, de, Ra):# On definit la fonction deriv qu'on utilisera pour calculer les différents k de la méthode RK4\n",
    "    alpha = 1/(4*t*(de**2))\n",
    "        \n",
    "    a = alpha * (c[j-1] * (1 - p * (de ** 2)) + c[j] * ( -2 - (k**2)/(Ra* alpha) ) + c[j+1] * (1 + p * (de**2))) + ((Ra/(numpy.pi * t))**(1/2)) * numpy.exp(-(p * de)**2) * w[i]\n",
    "    \n",
    "    return a"
   ]
  },
  {
   "cell_type": "code",
   "execution_count": 6,
   "metadata": {},
   "outputs": [],
   "source": [
    "def RK4 (f,t,p,c, w, de, Ra,h):# On définit la fonction RK4 qui calcule les différents k\n",
    " \n",
    "    k1 = numpy.empty(Ne)\n",
    "    k2 = numpy.empty(Ne)\n",
    "    k3 = numpy.empty(Ne)\n",
    "    k4 = numpy.empty(Ne)\n",
    "    for i in range (1,Ne-2):\n",
    "        w[i+1] = (-(k**2)-w[i-1] * Ra * alpha + ((2 * Ra * alpha) + k**2) * w[i]) * (1/(Ra * alpha))\n",
    "        w[-1] = 0.0\n",
    "    for j in range (Ne):\n",
    "        p = j\n",
    "        k1[j] = f(t,p, c, w, de, Ra)\n",
    "        k2[j] = f(t + h/2,p,c + (h/2)*k1, w, de, Ra)\n",
    "        k3[j] = f(t + h/2,p, c + (h/2)*k2, w, de, Ra)\n",
    "        k4[j] = f(t + h/2,p, c + (h/2)*k3, w, de, Ra)\n",
    "        RK4 = (h/6) * (k1 + 2 * k2 + 2 * k3 + k4)\n",
    "    \n",
    "    return RK4"
   ]
  },
  {
   "cell_type": "code",
   "execution_count": 7,
   "metadata": {},
   "outputs": [],
   "source": [
    "def step(RK4,f,t,p,c, w, de, Ra,h):# On définit la fonction step qui nous fera avancer dans le temps\n",
    "    c_new = c + RK4(deriv,t,p,c, w, de, Ra,h)\n",
    "    return c_new"
   ]
  },
  {
   "cell_type": "code",
   "execution_count": 8,
   "metadata": {},
   "outputs": [],
   "source": [
    "c_hist = numpy.empty((Nt,Ne))# On crée un tableau vide que l'on remplira des différentes valeurs de la concentration au cours du temps\n",
    "c_hist[0] = c\n",
    "p = 0.0\n",
    "t = t0\n",
    "for n in range (Nt-1):\n",
    "    t = t0 + i * h# on remet le t à jour ainsi que alpha\n",
    "    alpha = 1/(4*t*(de**2))\n",
    "    c_hist[n+1] = step(RK4,deriv,t,p,c_hist[n], w, de, Ra,h)\n",
    "    c_hist[n+1,0] = 0.0\n",
    "    c_hist[n+1,-1] = 0.0\n"
   ]
  },
  {
   "cell_type": "code",
   "execution_count": 17,
   "metadata": {},
   "outputs": [
    {
     "data": {
      "image/png": "[encoded data removed]",
      "text/plain": [
       "<Figure size 432x288 with 1 Axes>"
      ]
     },
     "metadata": {
      "needs_background": "light"
     },
     "output_type": "display_data"
    }
   ],
   "source": [
    "# Nous donnons ici les polices pour notre graphique\n",
    "pyplot.rcParams['font.family'] = 'serif'\n",
    "pyplot.rcParams['font.size'] = 16\n",
    "\n",
    "xhi = numpy.linspace(0.0,5.0,Ne)# Nous créons un graphique de la concentration au temps t0 et t finale\n",
    "\n",
    "\n",
    "pyplot.figure(figsize=(6.0, 4.0))\n",
    "pyplot.xlabel('xhi')\n",
    "pyplot.ylabel('concentration')\n",
    "pyplot.grid()\n",
    "pyplot.plot(xhi, c_hist[Nt-1], color='C0', linestyle='--', linewidth=2)\n",
    "pyplot.plot(xhi, c_hist[0], color='C1', linestyle='-', linewidth=2)\n",
    "pyplot.xlim(0.0, L)\n",
    "pyplot.ylim(-10, 10);\n",
    "\n"
   ]
  },
  {
   "cell_type": "markdown",
   "metadata": {},
   "source": [
    "Il semblerait que nos valeurs ne permettent pas de faire un graphique cohérent, notre erreur doit probablement se trouver dans l'algorithme plus précisément soit dans l'implémentation des conditions aux bords soit dans le calcul des différents k.  En effet, nous n'étions pas sur de l'influence des variables qui apparaissent dans la dérivée par rapport au temps de la concentration."
   ]
  }
 ],
 "metadata": {
  "kernelspec": {
   "display_name": "Python 3",
   "language": "python",
   "name": "python3"
  },
  "language_info": {
   "codemirror_mode": {
    "name": "ipython",
    "version": 3
   },
   "file_extension": ".py",
   "mimetype": "text/x-python",
   "name": "python",
   "nbconvert_exporter": "python",
   "pygments_lexer": "ipython3",
   "version": "3.7.0"
  }
 },
 "nbformat": 4,
 "nbformat_minor": 2
}
