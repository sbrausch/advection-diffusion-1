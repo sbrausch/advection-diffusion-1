{
 "cells": [
  {
   "cell_type": "markdown",
   "metadata": {},
   "source": [
    "Brausch Sébastien $000442329$\n",
    "\n",
    "Leonardy Lucas    $000430168$"
   ]
  },
  {
   "cell_type": "markdown",
   "metadata": {},
   "source": [
    "# Advection-diffusion : MATH -F-314    devoir n°2   (décembre 2018)"
   ]
  },
  {
   "cell_type": "markdown",
   "metadata": {},
   "source": [
    "\n",
    "\n"
   ]
  },
  {
   "cell_type": "code",
   "execution_count": 1,
   "metadata": {},
   "outputs": [],
   "source": [
    "\n",
    "\n",
    "import numpy\n",
    "from matplotlib import pyplot\n",
    "%matplotlib inline\n",
    "import numpy \n",
    "from scipy import linalg\n"
   ]
  },
  {
   "cell_type": "code",
   "execution_count": 2,
   "metadata": {},
   "outputs": [],
   "source": [
    "# Set the font family and size to use for Matplotlib figures.\n",
    "pyplot.rcParams['font.family'] = 'serif'\n",
    "pyplot.rcParams['font.size'] = 16"
   ]
  },
  {
   "cell_type": "code",
   "execution_count": 3,
   "metadata": {},
   "outputs": [],
   "source": [
    "h = 10**(-8)\n",
    "Ne = 101\n",
    "Nt = int((10**(-4)-10**(-5))/h)\n",
    "t0 = 10**(-5)\n",
    "t=t0\n",
    "L = 5.0\n",
    "de = L/(Ne-1)\n",
    "Ra = 500.0\n",
    "k = 0.1\n",
    "p = 0.0\n",
    "e_droite = numpy.empty(Ne-1)\n",
    "e_milieu = numpy.ones(Ne)*-2\n",
    "e_gauche = numpy.empty(Ne-1)\n",
    "\n",
    "for i in range (Ne-1):\n",
    "        e_droite[i] = 1 + i * de**2\n",
    "        e_gauche[i] = 1 - (i+1)* de**2\n",
    "\n",
    "e_droite[0] = 0.0\n",
    "e_milieu[0] = 0.0\n",
    "e_milieu[-1] = 0.0\n",
    "e_gauche[-1] = 0.0\n"
   ]
  },
  {
   "cell_type": "code",
   "execution_count": 4,
   "metadata": {},
   "outputs": [],
   "source": [
    "A = numpy.diag(e_droite, k = 1)\n",
    "B = numpy.diag(e_milieu)\n",
    "C = numpy.diag(e_gauche, k=-1)\n",
    "\n",
    "H = (1/(4*de**2))*(A +  B +  C)\n"
   ]
  },
  {
   "cell_type": "code",
   "execution_count": 5,
   "metadata": {},
   "outputs": [
    {
     "name": "stdout",
     "output_type": "stream",
     "text": [
      "[-1.         -2.00000046 -3.00003777 -4.00115317 -5.01501585]\n"
     ]
    }
   ],
   "source": [
    "v,w = numpy.linalg.eig(H)\n",
    "v.sort()\n",
    "\n",
    "x = numpy.zeros(5)\n",
    "j = 1\n",
    "s = 1\n",
    "while j < 6 :\n",
    "    if v[-s] != 0.0:\n",
    "        x[j-1] = v[-s]\n",
    "        j = j+1\n",
    "        s = s+1\n",
    "    elif v[-s] == 0.0:\n",
    "        s = s+1\n",
    "    \n",
    "\n",
    "print(x)\n"
   ]
  },
  {
   "cell_type": "code",
   "execution_count": 6,
   "metadata": {},
   "outputs": [],
   "source": [
    "c_i = numpy.load(\"init_cond_c.npy\")"
   ]
  },
  {
   "cell_type": "code",
   "execution_count": 7,
   "metadata": {},
   "outputs": [],
   "source": [
    "c = numpy.zeros(Ne)\n",
    "w = numpy.empty(Ne)\n",
    "w[0] = 0.0\n",
    "for i in range (Ne-2):\n",
    "    c[i+1] = c_i[i]\n",
    "\n"
   ]
  },
  {
   "cell_type": "code",
   "execution_count": 8,
   "metadata": {},
   "outputs": [],
   "source": [
    "def deriv(t,p,c, w, de, Ra):\n",
    "    alpha = 1/(4*t*(de**2))\n",
    "        \n",
    "    a = alpha * (c[j-1] * (1 - p * (de ** 2)) + c[j] * ( -2 - (k**2)/(Ra* alpha) ) + c[j+1] * (1 + p * (de**2))) + ((Ra/(numpy.pi * t))**(1/2)) * numpy.exp(-(p * de)**2) * w[i]\n",
    "    \n",
    "    return a"
   ]
  },
  {
   "cell_type": "code",
   "execution_count": 9,
   "metadata": {},
   "outputs": [],
   "source": [
    "def RK4 (f,t,p,c, w, de, Ra,h):\n",
    " \n",
    "    k1 = numpy.empty(Ne)\n",
    "    k2 = numpy.empty(Ne)\n",
    "    k3 = numpy.empty(Ne)\n",
    "    k4 = numpy.empty(Ne)\n",
    "    for i in range (1,Ne-2):\n",
    "        w[i+1] = (-(k**2)-w[i-1] * Ra * alpha + ((2 * Ra * alpha) + k**2) * w[i]) * (1/(Ra * alpha))\n",
    "        w[-1] = 0.0\n",
    "    for j in range (Ne):\n",
    "        p = j\n",
    "        k1[j] = f(t,p, c, w, de, Ra)\n",
    "        k2[j] = f(t + h/2,p,c + (h/2)*k1, w, de, Ra)\n",
    "        k3[j] = f(t + h/2,p, c + (h/2)*k2, w, de, Ra)\n",
    "        k4[j] = f(t + h/2,p, c + (h/2)*k3, w, de, Ra)\n",
    "        RK4 = (h/6) * (k1 + 2 * k2 + 2 * k3 + k4)\n",
    "    \n",
    "    return RK4"
   ]
  },
  {
   "cell_type": "code",
   "execution_count": 10,
   "metadata": {},
   "outputs": [],
   "source": [
    "def step(RK4,f,t,p,c, w, de, Ra,h):\n",
    "    c_new = c + RK4(deriv,t,p,c, w, de, Ra,h)\n",
    "    return c_new"
   ]
  },
  {
   "cell_type": "code",
   "execution_count": 11,
   "metadata": {},
   "outputs": [
    {
     "ename": "NameError",
     "evalue": "name 'N' is not defined",
     "output_type": "error",
     "traceback": [
      "\u001b[1;31m---------------------------------------------------------------------------\u001b[0m",
      "\u001b[1;31mNameError\u001b[0m                                 Traceback (most recent call last)",
      "\u001b[1;32m<ipython-input-11-b8e203ffa8a6>\u001b[0m in \u001b[0;36m<module>\u001b[1;34m()\u001b[0m\n\u001b[0;32m      8\u001b[0m     \u001b[0mc_hist\u001b[0m\u001b[1;33m[\u001b[0m\u001b[0mn\u001b[0m\u001b[1;33m+\u001b[0m\u001b[1;36m1\u001b[0m\u001b[1;33m,\u001b[0m\u001b[1;33m-\u001b[0m\u001b[1;36m1\u001b[0m\u001b[1;33m]\u001b[0m \u001b[1;33m=\u001b[0m \u001b[1;36m0.0\u001b[0m\u001b[1;33m\u001b[0m\u001b[0m\n\u001b[0;32m      9\u001b[0m \u001b[1;33m\u001b[0m\u001b[0m\n\u001b[1;32m---> 10\u001b[1;33m \u001b[0mmaxi\u001b[0m \u001b[1;33m=\u001b[0m \u001b[0mnumpy\u001b[0m\u001b[1;33m.\u001b[0m\u001b[0mmax\u001b[0m\u001b[1;33m(\u001b[0m\u001b[0mc_hist\u001b[0m\u001b[1;33m[\u001b[0m\u001b[0mN\u001b[0m\u001b[1;33m-\u001b[0m\u001b[1;36m1\u001b[0m\u001b[1;33m]\u001b[0m\u001b[1;33m)\u001b[0m\u001b[1;33m\u001b[0m\u001b[0m\n\u001b[0m\u001b[0;32m     11\u001b[0m \u001b[0mprint\u001b[0m \u001b[1;33m(\u001b[0m\u001b[0mmaxi\u001b[0m\u001b[1;33m)\u001b[0m\u001b[1;33m\u001b[0m\u001b[0m\n",
      "\u001b[1;31mNameError\u001b[0m: name 'N' is not defined"
     ]
    }
   ],
   "source": [
    "c_hist = numpy.empty((Nt,Ne))\n",
    "c_hist[0] = c\n",
    "for n in range (Nt-1):\n",
    "    t = t0 + i * h\n",
    "    alpha = 1/(4*t*(de**2))\n",
    "    c_hist[n+1] = step(RK4,deriv,t,p,c_hist[n], w, de, Ra,h)\n",
    "    c_hist[n+1,0] = 0.0\n",
    "    c_hist[n+1,-1] = 0.0\n",
    "\n",
    "maxi = numpy.max(c_hist[N-1])\n",
    "print (maxi)\n",
    "\n"
   ]
  },
  {
   "cell_type": "code",
   "execution_count": null,
   "metadata": {},
   "outputs": [],
   "source": [
    "xhi = numpy.linspace(0.0,5.0,Ne)\n",
    "S = 10**157\n",
    "# Plot the temperature along the rod.\n",
    "pyplot.figure(figsize=(6.0, 4.0))\n",
    "pyplot.xlabel('Distance [m]')\n",
    "pyplot.ylabel('Temperature [C]')\n",
    "pyplot.grid()\n",
    "\n",
    "pyplot.plot(xhi, c_hist[0], color='C1', linestyle='-', linewidth=2)\n",
    "pyplot.xlim(0.0, L)\n",
    "pyplot.ylim(10, 10);\n",
    "\n"
   ]
  }
 ],
 "metadata": {
  "kernelspec": {
   "display_name": "Python 3",
   "language": "python",
   "name": "python3"
  },
  "language_info": {
   "codemirror_mode": {
    "name": "ipython",
    "version": 3
   },
   "file_extension": ".py",
   "mimetype": "text/x-python",
   "name": "python",
   "nbconvert_exporter": "python",
   "pygments_lexer": "ipython3",
   "version": "3.7.0"
  }
 },
 "nbformat": 4,
 "nbformat_minor": 2
}
